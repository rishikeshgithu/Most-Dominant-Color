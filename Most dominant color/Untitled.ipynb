{
 "cells": [
  {
   "cell_type": "code",
   "execution_count": 16,
   "id": "d5605968",
   "metadata": {},
   "outputs": [],
   "source": [
    "import cv2\n",
    "import numpy as np\n",
    "import matplotlib.pyplot as plt\n",
    "from sklearn.cluster import KMeans\n",
    "import imutils"
   ]
  },
  {
   "cell_type": "code",
   "execution_count": 23,
   "id": "36903777",
   "metadata": {},
   "outputs": [
    {
     "name": "stdout",
     "output_type": "stream",
     "text": [
      "Org image shape -->  (225, 225, 3)\n",
      "After resizing shape -->  (200, 200, 3)\n",
      "After Flattening shape -->  (40000, 3)\n"
     ]
    },
    {
     "data": {
      "image/png": "[encoded data removed]",
      "text/plain": [
       "<Figure size 864x576 with 5 Axes>"
      ]
     },
     "metadata": {},
     "output_type": "display_data"
    },
    {
     "data": {
      "image/png": "[encoded data removed]",
      "text/plain": [
       "<Figure size 864x576 with 1 Axes>"
      ]
     },
     "metadata": {},
     "output_type": "display_data"
    },
    {
     "data": {
      "text/plain": [
       "True"
      ]
     },
     "execution_count": 23,
     "metadata": {},
     "output_type": "execute_result"
    }
   ],
   "source": [
    "clusters = 5 # try changing it\n",
    "\n",
    "img = cv2.imread('mod.jfif')\n",
    "org_img = img.copy()\n",
    "print('Org image shape --> ',img.shape)\n",
    "\n",
    "# rows = 200\n",
    "# cols = int((img.shape[0]/img.shape[1])*rows)\n",
    "\n",
    "img = imutils.resize(img,height=200)\n",
    "\n",
    "# img = cv2.resize(img,dsize=(rows,cols),interpolation=cv2.INTER_LINEAR)\n",
    "print('After resizing shape --> ',img.shape)\n",
    "\n",
    "\n",
    "flat_img = np.reshape(img,(-1,3))\n",
    "print('After Flattening shape --> ',flat_img.shape)\n",
    "\n",
    "\n",
    "kmeans = KMeans(n_clusters=clusters,random_state=0)\n",
    "kmeans.fit(flat_img)\n",
    "\n",
    "\n",
    "dominant_colors = np.array(kmeans.cluster_centers_,dtype='uint')\n",
    "\n",
    "\n",
    "percentages = (np.unique(kmeans.labels_,return_counts=True)[1])/flat_img.shape[0]\n",
    "p_and_c = zip(percentages,dominant_colors)\n",
    "p_and_c = sorted(p_and_c,reverse=True)\n",
    "\n",
    "\n",
    "block = np.ones((50,50,3),dtype='uint')\n",
    "plt.figure(figsize=(12,8))\n",
    "for i in range(clusters):\n",
    "    plt.subplot(1,clusters,i+1)\n",
    "    block[:] = p_and_c[i][1][::-1] # we have done this to convert bgr(opencv) to rgb(matplotlib) \n",
    "    plt.imshow(block)\n",
    "    plt.xticks([])\n",
    "    plt.yticks([])\n",
    "    plt.xlabel(str(round(p_and_c[i][0]*100,2))+'%')\n",
    "\n",
    "\n",
    "bar = np.ones((50,500,3),dtype='uint')\n",
    "plt.figure(figsize=(12,8))\n",
    "plt.title('Proportions of colors in the image')\n",
    "start = 0\n",
    "i = 1\n",
    "for p,c in p_and_c:\n",
    "    end = start+int(p*bar.shape[1])\n",
    "    if i==clusters:\n",
    "        bar[:,start:] = c[::-1]\n",
    "    else:\n",
    "        bar[:,start:end] = c[::-1]\n",
    "    start = end\n",
    "    i+=1\n",
    "\n",
    "plt.imshow(bar)\n",
    "plt.xticks([])\n",
    "plt.yticks([])\n",
    "\n",
    "\n",
    "rows = 1000\n",
    "cols = int((org_img.shape[0]/org_img.shape[1])*rows)\n",
    "img = cv2.resize(org_img,dsize=(rows,cols),interpolation=cv2.INTER_LINEAR)\n",
    "\n",
    "copy = img.copy()\n",
    "cv2.rectangle(copy,(rows//2-250,cols//2-90),(rows//2+250,cols//2+110),(255,255,255),-1)\n",
    "\n",
    "final = cv2.addWeighted(img,0.1,copy,0.9,0)\n",
    "cv2.putText(final,'Most Dominant Colors in the Image',(rows//2-230,cols//2-40),cv2.FONT_HERSHEY_DUPLEX,0.8,(0,0,0),1,cv2.LINE_AA)\n",
    "\n",
    "\n",
    "start = rows//2-220\n",
    "for i in range(5):\n",
    "    end = start+70\n",
    "    final[cols//2:cols//2+70,start:end] = p_and_c[i][1]\n",
    "    cv2.putText(final,str(i+1),(start+25,cols//2+45),cv2.FONT_HERSHEY_DUPLEX,1,(255,255,255),1,cv2.LINE_AA)\n",
    "    start = end+20\n",
    "\n",
    "plt.show()\n",
    "\n",
    "cv2.imshow('img',final)\n",
    "cv2.waitKey(0)\n",
    "cv2.destroyAllWindows()\n",
    "cv2.imwrite('output.png',final)\n"
   ]
  },
  {
   "cell_type": "code",
   "execution_count": null,
   "id": "06a9eefb",
   "metadata": {},
   "outputs": [],
   "source": []
  }
 ],
 "metadata": {
  "kernelspec": {
   "display_name": "Python 3 (ipykernel)",
   "language": "python",
   "name": "python3"
  },
  "language_info": {
   "codemirror_mode": {
    "name": "ipython",
    "version": 3
   },
   "file_extension": ".py",
   "mimetype": "text/x-python",
   "name": "python",
   "nbconvert_exporter": "python",
   "pygments_lexer": "ipython3",
   "version": "3.9.12"
  }
 },
 "nbformat": 4,
 "nbformat_minor": 5
}
